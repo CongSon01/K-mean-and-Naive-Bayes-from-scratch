{
  "cells": [
    {
      "cell_type": "code",
      "execution_count": 2,
      "metadata": {
        "id": "qgrpgzRYWzyr"
      },
      "outputs": [],
      "source": [
        "import os # path processing\n",
        "from time import perf_counter # timer"
      ]
    },
    {
      "cell_type": "markdown",
      "metadata": {
        "id": "5vepQd07zKve"
      },
      "source": [
        "# Function load data"
      ]
    },
    {
      "cell_type": "code",
      "execution_count": 3,
      "metadata": {
        "id": "UtcWYBRrYCj_"
      },
      "outputs": [],
      "source": [
        "def readFile(name_file):\n",
        "    images = []\n",
        "    for line in open(name_file).read():\n",
        "        images.append(line)\n",
        "    return images;"
      ]
    },
    {
      "cell_type": "code",
      "execution_count": 4,
      "metadata": {
        "id": "msFPKidzYMBW"
      },
      "outputs": [],
      "source": [
        "# This for loop is converting spaces into 0  and  # and + are getting converted into 1\n",
        "def convertCharToNumber(arr_images):\n",
        "    list_temp = []\n",
        "    for char in arr_images:\n",
        "        if char == ' ':\n",
        "            list_temp.append(0)\n",
        "        elif char == '+' or char == '#':\n",
        "            list_temp.append(1)\n",
        "        else:\n",
        "            continue\n",
        "    return list_temp"
      ]
    },
    {
      "cell_type": "code",
      "execution_count": 5,
      "metadata": {
        "id": "RmnaSCr5YOVT"
      },
      "outputs": [],
      "source": [
        "def getFeature(list_train_or_test):\n",
        "    lis = list()\n",
        "    image_arr = list()\n",
        "    for index in range(0,len(list_train_or_test)):\n",
        "        if index == len(list_train_or_test) - 1:\n",
        "            lis.append(list_train_or_test[index])\n",
        "            image_arr.append(lis)\n",
        "        elif ( index % 784 ==0 and index!=0):\n",
        "            image_arr.append(lis)\n",
        "            lis = list() #new\n",
        "            lis.append(list_train_or_test[index])\n",
        "        else:\n",
        "            lis.append(list_train_or_test[index])\n",
        "    return image_arr"
      ]
    },
    {
      "cell_type": "code",
      "execution_count": 6,
      "metadata": {
        "id": "dmwMquefYPeZ"
      },
      "outputs": [],
      "source": [
        "def getLabel(label_array):\n",
        "  list_label = []\n",
        "  for i in label_array:\n",
        "    if i != '\\n':\n",
        "        list_label.append(int(i))\n",
        "  return list_label"
      ]
    },
    {
      "cell_type": "markdown",
      "metadata": {
        "id": "i8ouDC4JYEmF"
      },
      "source": [
        "\n",
        "# File Loader\n",
        "## Get feature"
      ]
    },
    {
      "cell_type": "code",
      "execution_count": 7,
      "metadata": {
        "id": "NMOL2xUAYQtk"
      },
      "outputs": [],
      "source": [
        "training_images = readFile(\"./Dataset/trainingimages\")\n",
        "list_training = convertCharToNumber(training_images)\n",
        "img_arr_train= getFeature(list_training)\n",
        "\n",
        "\n",
        "testing_images =  readFile(\"./Dataset/testimages\")\n",
        "list_testing = convertCharToNumber(testing_images)\n",
        "img_arr_test = getFeature(list_testing)"
      ]
    },
    {
      "cell_type": "markdown",
      "metadata": {
        "id": "a0F5k7WpYov_"
      },
      "source": [
        "## Get label"
      ]
    },
    {
      "cell_type": "code",
      "execution_count": 8,
      "metadata": {
        "id": "gGzJe5koYcbC"
      },
      "outputs": [],
      "source": [
        "label_train = readFile(\"./Dataset/traininglabels\")\n",
        "lb_arr_train = getLabel(label_train)\n",
        "\n",
        "label_test = readFile(\"./Dataset/testlabels\")\n",
        "lb_arr_test = getLabel(label_test)"
      ]
    },
    {
      "cell_type": "code",
      "execution_count": 9,
      "metadata": {
        "colab": {
          "base_uri": "https://localhost:8080/"
        },
        "id": "KZs3QiZg8uCi",
        "outputId": "8fa3a33c-877b-4af3-dcd4-6bf08194cfb5"
      },
      "outputs": [
        {
          "data": {
            "text/plain": [
              "[5, 0, 4, 1, 9, 2, 1, 3, 1, 4]"
            ]
          },
          "execution_count": 9,
          "metadata": {},
          "output_type": "execute_result"
        }
      ],
      "source": [
        "lb_arr_train[:10]"
      ]
    },
    {
      "cell_type": "markdown",
      "metadata": {
        "id": "gMn0bsguY0GS"
      },
      "source": [
        "# Load and saving model system"
      ]
    },
    {
      "cell_type": "code",
      "execution_count": 10,
      "metadata": {
        "id": "mwuokRraYtrR"
      },
      "outputs": [],
      "source": [
        "# save the model to disk\n",
        "import pickle # save train model\n",
        "def save_model(obj, filename):\n",
        "    filename = os.path.join(os.path.abspath('./SaveModel/'), filename + \".h\")\n",
        "    pickle_file = open(filename, 'wb')\n",
        "    pickle.dump(obj, pickle_file)\n",
        "    pickle_file.close()\n",
        "\n",
        "def load_model(filename):\n",
        "    file_path = os.path.join(os.path.abspath('./SaveModel/'), filename)\n",
        "    loaded_model = pickle.load(open(file_path, 'rb'))\n",
        "    return loaded_model"
      ]
    },
    {
      "cell_type": "markdown",
      "metadata": {},
      "source": [
        "<h1 align='center'>Naive Bayes</h1>"
      ]
    },
    {
      "cell_type": "markdown",
      "metadata": {},
      "source": [
        "# Giới thiệu về Naive Bayes\n",
        "Naive Bayes classifiers là một thuật toán phân loại khá là nhanh và đơn giản, ý tưởng của thuật toán dựa trên định lý bayes mô tả xác suất của một label dựa trên các feature. Trong bài toán này, em sử dụng định lý bayes để tính toán xác suất mà một hình ảnh có thể thuộc về một lớp dựa trên giá trị của một đối tượng. Ý tưởng của nó là xác suất có điều kiện là khả năng xảy ra của sự kiện A dưa trên sự kiện B cho trước và được viết là P(A|B).\n",
        "$$ P(A|B)\\text{=}\\frac{P(B|A)P(A)}{P(B)} $$"
      ]
    },
    {
      "cell_type": "markdown",
      "metadata": {},
      "source": [
        "- Dựa vào công thức trên có thể xác định được xác suất của từ feature Fi, j có giá trị trong khoảng {0, 1} của label thuộc vào lớp {0, 1, 2, ..., 9}. <br>\n",
        "- Để làm được điều này, chúng tôi sẽ đào tạo mô hình trên một tập hợp lớn các hình ảnh mà đã biết chúng thuộc các chữ số 0-9. Khi tính toán các xác  suất này, em sẽ có thể phân loại hình ảnh bằng cách tính lớp có xác suất cao nhất với feature đầu vào.\n"
      ]
    },
    {
      "cell_type": "markdown",
      "metadata": {
        "id": "v_Hr9B9xZLqI"
      },
      "source": [
        "# Model\n",
        "\n",
        "\n",
        "\n",
        " "
      ]
    },
    {
      "cell_type": "markdown",
      "metadata": {},
      "source": [
        "<b>Training </b> <br>\n",
        "Mục tiêu của bước training là dạy cho máy tính khả năng xảy ra của một feature Fi,j có giá trị ƒ∈ {0, 1} thuộc vào class nào từ {0, 1,…,9}. Và có thể viết: <i> P(Fi,j= ƒ|class =c). </i> <br>\n",
        "Sử dụng công thức: <br>\n",
        "$$ P(Fi,j= ƒ |class =c)\\text{=}\\frac{\\text{of times F(i,j)=f when class=c}}{\\text{Total number of training examples where class=c}} $$\n",
        "Khi sử dụng những xác suất này để tính toán, chúng ta phải bảo đảm được rằng P#0 vì nếu như P = 0 chúng sẽ loại bỏ mọi xác suất khác 0 khác, việc này dẫn đến kết quả phân loại không chính xác. Và chúng ta sẽ cần đến kỹ thuật Laplace Smoothing để làm điều này.  <br>\n",
        "Kỹ thuật Laplace Smoothing là kỹ thuật xử lý vấn đề xác suất bằng không của Naive Bayes, hoạt động bằng cách thêm vào tử số một giá trị k nhỏ, dương và k.V vào mẫu số (trong trường hợp này chọn V = 2) <br>\n",
        "$$ P(Fi,j= ƒ |class =c)\\text{=}\\frac{\\text{k + of times F(i,j)=f when class=c}}{\\text{2k + Total number of training examples where class=c}} $$\n",
        "Cần tính thêm giá trị <b>Priors P(class =c): </b> Xác suất của mỗi class độc lập với các feature.\n",
        "$$ P(class=c)\\text{=}\\frac{\\text{of times F(i,j)=f when class=c}}{\\text{of training examples }} $$\n"
      ]
    },
    {
      "cell_type": "markdown",
      "metadata": {},
      "source": [
        "<b>Classifying</b> <br>\n",
        "Sử dụng phương pháp maximum a posteriori (MAP) tính xác suất của mỗi hình ảnh ứng với một nhãn. Sau đó phân loại hình ảnh về xác suất cao nhất. <br>\n",
        "Tính xác suất mà hình ảnh đó thuộc về lớp bằng cách nhân tất cả các xác suất với nhau và chia cho tập hợp xác suất. \n",
        "$$ \\text{P(class) * P(f(1,1 ) |class) * P(f(1,2 ) |class) * …* P(f(28,28 ) |class)} $$\n",
        "Nhưng khi sử dụng công thức này, chúng ta sẽ bị gặp phải một vấn đề là Floating point (dấu phẩy động) và dẫn đến underflow do khi nhân các xác suất lại với nhau nó sẽ có kết quả rất lớn.\n",
        "Để giải quyết vấn đề này, em sẽ sử dụng công thức sau: \n",
        "$$ \\text{log(P(class)) + log(P(f(1,1 ) |class)) + log(P(f(1,2 ) |class)) + …+ log(P(f(28,28 ) |class)))} $$"
      ]
    },
    {
      "cell_type": "markdown",
      "metadata": {},
      "source": [
        "Xây dựng class Model giúp thuật tiện trong việc save model"
      ]
    },
    {
      "cell_type": "code",
      "execution_count": 11,
      "metadata": {
        "id": "qYbFskdKZEJP"
      },
      "outputs": [],
      "source": [
        "from math import log\n",
        "class Model:\n",
        "  def __init__(self, k = 0.2):\n",
        "    self.k = k #Laplace Smoothing\n",
        "    self.priors = []\n",
        "    self.number_of={}\n",
        "    self.P_zerosfor = {}\n",
        "    self.P_onesfor = {}\n",
        "\n",
        "  def fit(self, X_train, y_train, X_test, y_test):\n",
        "    self.n_classes = self.numberLabel(y_train)\n",
        "    # Tính Prior từng class: Xác suất độc lập với Feature\n",
        "    for c in range(self.n_classes):\n",
        "      self.priors.append(y_train.count(c)/len(y_train))\n",
        "    \n",
        "    # Tính Likelihood\n",
        "    for c in range(self.n_classes):\n",
        "      new_array = []\n",
        "      for i in range(0,len(y_train)):\n",
        "        if y_train[i]==c:\n",
        "          new_array.append(X_train[i])\n",
        "      self.number_of[c] = new_array\n",
        "    \n",
        "    # Tính xác suất phân của features thuộc vào class c\n",
        "    for c in range(self.n_classes):\n",
        "      temp_zeros_array = []\n",
        "      temp_ones_array = []\n",
        "      for pixel in range(0,784):\n",
        "        count_0 = 0\n",
        "        count_1 = 0\n",
        "        for each_image in self.number_of[c]:\n",
        "          if each_image[pixel] == 0:\n",
        "            count_0 = count_0 + 1\n",
        "          elif each_image[pixel] == 1:\n",
        "            count_1 = count_1 + 1\n",
        "        prob_0=(self.k+count_0)/(2*self.k+len(self.number_of[c]))\n",
        "        prob_1=(self.k+count_1)/(2*self.k+len(self.number_of[c]))\n",
        "        temp_zeros_array.append(prob_0)\n",
        "        temp_ones_array.append(prob_1)\n",
        "      self.P_zerosfor[c] = temp_zeros_array\n",
        "      self.P_onesfor[c] = temp_ones_array\n",
        "    return self\n",
        "\n",
        "  #Make prediction - highest probility is the prediction\n",
        "  #postirior = likeihood * prior\n",
        "  def predict(self, y_test):\n",
        "    predicted_label = list()\n",
        "    Log_P = {}\n",
        "    for each_test_image in y_test:\n",
        "      prob_image=[]\n",
        "      for c in range(self.n_classes):\n",
        "        Log_P[c] = log(self.priors[c])\n",
        "        for index in range(0,len(each_test_image)):\n",
        "          takeprob = 0\n",
        "          if each_test_image[index] == 0:\n",
        "            takeprob = self.P_zerosfor[c][index]\n",
        "          elif each_test_image[index] == 1:\n",
        "            takeprob = self.P_onesfor[c][index]\n",
        "          Log_P[c]+=log(takeprob)  #fix floating point\n",
        "        prob_image.append(Log_P[c])\n",
        "      x = prob_image.index(max(prob_image))\n",
        "      predicted_label.append(x)\n",
        "    return predicted_label\n",
        "\n",
        "  # đếm số label khác nhau\n",
        "  def numberLabel(self, list_classes):\n",
        "    unique_class = []\n",
        "    count = 0\n",
        "    for x in list_classes:\n",
        "      if x not in unique_class:\n",
        "        count += 1\n",
        "        unique_class.append(x)\n",
        "    return count\n",
        "  \n",
        "  # Predict label dựa theo 1 features trong tập X_test\n",
        "  def checkModel(self, X_test):\n",
        "    prob_image=[]\n",
        "    Log_P = {}\n",
        "    for c in range(self.n_classes):\n",
        "      Log_P[c] = log(self.priors[c])\n",
        "      for index in range(0,len(X_test)):\n",
        "        takeprob = 0\n",
        "        if X_test[index] == 0:\n",
        "          takeprob = self.P_zerosfor[c][index]\n",
        "        elif X_test[index] == 1:\n",
        "          takeprob = self.P_onesfor[c][index]\n",
        "        Log_P[c]+=log(takeprob)  #fix floating point\n",
        "      prob_image.append(Log_P[c])\n",
        "    x = prob_image.index(max(prob_image))\n",
        "    return x\n"
      ]
    },
    {
      "cell_type": "markdown",
      "metadata": {
        "id": "_oXr07mI5R-f"
      },
      "source": [
        "# Training Model và Save Model"
      ]
    },
    {
      "cell_type": "code",
      "execution_count": 13,
      "metadata": {
        "colab": {
          "base_uri": "https://localhost:8080/"
        },
        "id": "A5VuILcaeLOH",
        "outputId": "c2318f2c-c33c-45da-a83b-f43174576024"
      },
      "outputs": [
        {
          "data": {
            "text/plain": [
              "<__main__.Model at 0x18676e9c5b0>"
            ]
          },
          "execution_count": 13,
          "metadata": {},
          "output_type": "execute_result"
        }
      ],
      "source": [
        "model = Model(k=0.0005)\n",
        "model.fit(img_arr_train, lb_arr_train, img_arr_test,lb_arr_test )"
      ]
    },
    {
      "cell_type": "code",
      "execution_count": 16,
      "metadata": {
        "id": "FsEQetit5mGj"
      },
      "outputs": [],
      "source": [
        "save_model(model, \"train_full\")"
      ]
    },
    {
      "cell_type": "markdown",
      "metadata": {
        "id": "cexqE5SO5WO_"
      },
      "source": [
        "# Dự đoán label với tập X_test"
      ]
    },
    {
      "cell_type": "code",
      "execution_count": 14,
      "metadata": {
        "id": "xzvIqqebegFO"
      },
      "outputs": [],
      "source": [
        "predicted_label = model.predict(img_arr_test)"
      ]
    },
    {
      "cell_type": "markdown",
      "metadata": {
        "id": "G5bYPiwx5afq"
      },
      "source": [
        "# Đánh giá mô hình"
      ]
    },
    {
      "cell_type": "code",
      "execution_count": 16,
      "metadata": {
        "id": "yjkTwLpsfBfZ"
      },
      "outputs": [],
      "source": [
        "# Accuracy\n",
        "def Acc(predicted_label, lb_arr_test):\n",
        "  return len([i for i, j in zip(lb_arr_test, predicted_label) if i == j]) / len(lb_arr_test)"
      ]
    },
    {
      "cell_type": "code",
      "execution_count": 17,
      "metadata": {
        "colab": {
          "base_uri": "https://localhost:8080/"
        },
        "id": "BUwZOZ96fLqB",
        "outputId": "493273ab-35fb-4a48-85d8-a0387cc4eecc"
      },
      "outputs": [
        {
          "data": {
            "text/plain": [
              "0.794"
            ]
          },
          "execution_count": 17,
          "metadata": {},
          "output_type": "execute_result"
        }
      ],
      "source": [
        "print(Acc(predicted_label, lb_arr_test))"
      ]
    },
    {
      "cell_type": "markdown",
      "metadata": {
        "id": "hMU3q9M05vTR"
      },
      "source": [
        "# Load model từ file"
      ]
    },
    {
      "cell_type": "code",
      "execution_count": 19,
      "metadata": {
        "id": "igV-VTjjg_-U"
      },
      "outputs": [],
      "source": [
        "model_k = load_model(\"train_full.h\")"
      ]
    },
    {
      "cell_type": "code",
      "execution_count": 20,
      "metadata": {
        "id": "45Pwf1rrhNsW"
      },
      "outputs": [],
      "source": [
        "predicted_model_k = model_k.predict(img_arr_test)"
      ]
    },
    {
      "cell_type": "code",
      "execution_count": 26,
      "metadata": {
        "colab": {
          "base_uri": "https://localhost:8080/"
        },
        "id": "fad9BJdbhUce",
        "outputId": "f90247dc-ae1e-453e-dc40-608118a0c96e"
      },
      "outputs": [
        {
          "data": {
            "text/plain": [
              "2"
            ]
          },
          "execution_count": 26,
          "metadata": {},
          "output_type": "execute_result"
        }
      ],
      "source": [
        "model.checkModel(img_arr_test[16])"
      ]
    },
    {
      "cell_type": "code",
      "execution_count": 27,
      "metadata": {
        "colab": {
          "base_uri": "https://localhost:8080/"
        },
        "id": "NFkriGo1kCTI",
        "outputId": "6247c2bf-c932-4dee-d25b-936d3f9afaf6"
      },
      "outputs": [
        {
          "data": {
            "text/plain": [
              "2"
            ]
          },
          "execution_count": 27,
          "metadata": {},
          "output_type": "execute_result"
        }
      ],
      "source": [
        "lb_arr_test[16]"
      ]
    },
    {
      "cell_type": "markdown",
      "metadata": {
        "id": "MshyV6N152lj"
      },
      "source": [
        "# Tìm Laplace Smoothing sao cho accuracy tốt"
      ]
    },
    {
      "cell_type": "code",
      "execution_count": 28,
      "metadata": {},
      "outputs": [
        {
          "name": "stdout",
          "output_type": "stream",
          "text": [
            "Khi k =  0.1\n",
            "Acc:  0.793\n",
            "Khi k =  1.1\n",
            "Acc:  0.791\n",
            "Khi k =  2.1\n",
            "Acc:  0.785\n",
            "Khi k =  3.1\n",
            "Acc:  0.783\n",
            "Khi k =  4.1\n",
            "Acc:  0.781\n",
            "Khi k =  5.1\n",
            "Acc:  0.778\n",
            "Khi k =  6.1\n",
            "Acc:  0.778\n",
            "Khi k =  7.1\n",
            "Acc:  0.775\n",
            "Khi k =  8.1\n",
            "Acc:  0.775\n",
            "Khi k =  9.1\n",
            "Acc:  0.775\n"
          ]
        }
      ],
      "source": [
        "# k_i = 0.1\n",
        "Acc_k = {}\n",
        "for i in range(0, 10, 1):\n",
        "  print('Khi k = ', i)\n",
        "  model = Model(k=i + 0.1)\n",
        "  model.fit(img_arr_train, lb_arr_train, img_arr_test,lb_arr_test )\n",
        "  predicted_label = model.predict(img_arr_test)\n",
        "  Acc_k[i] = Acc(predicted_label, lb_arr_test)\n",
        "  print('Acc: ' , Acc(predicted_label, lb_arr_test))"
      ]
    },
    {
      "cell_type": "code",
      "execution_count": 29,
      "metadata": {
        "colab": {
          "base_uri": "https://localhost:8080/",
          "height": 266
        },
        "id": "2dXXRaWimnpO",
        "outputId": "7ece4c09-eb9f-4ba9-c55b-f71d7090db8b"
      },
      "outputs": [
        {
          "data": {
            "image/png": "[encoded data removed]",
            "text/plain": [
              "<Figure size 432x288 with 1 Axes>"
            ]
          },
          "metadata": {
            "needs_background": "light"
          },
          "output_type": "display_data"
        }
      ],
      "source": [
        "import matplotlib.pyplot as plt\n",
        "plt.bar(*zip(*Acc_k.items()))\n",
        "plt.show()"
      ]
    },
    {
      "cell_type": "markdown",
      "metadata": {
        "id": "t7Cn6prig3kp"
      },
      "source": [
        "# Đánh giá bằng K-cross Validation"
      ]
    },
    {
      "cell_type": "markdown",
      "metadata": {},
      "source": [
        "K-Fold CV là một phương pháp đánh giá model một cách chính xác khi chúng ta train model nhưng có quá ít dữ liệu."
      ]
    },
    {
      "cell_type": "markdown",
      "metadata": {
        "id": "E47Lc08IgElU"
      },
      "source": [
        "![image.png](data:image/png;base64,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)"
      ]
    },
    {
      "cell_type": "code",
      "execution_count": 31,
      "metadata": {
        "colab": {
          "base_uri": "https://localhost:8080/"
        },
        "id": "F2-d4bZFePxq",
        "outputId": "830a191d-54b3-43bf-8fca-66d8ac3487d2"
      },
      "outputs": [
        {
          "name": "stdout",
          "output_type": "stream",
          "text": [
            "Đã train xong Fold  1\n",
            "Đã train xong Fold  2\n",
            "Đã train xong Fold  3\n",
            "Đã train xong Fold  4\n",
            "Đã train xong Fold  5\n",
            "Đã train xong Fold  6\n",
            "Đã train xong Fold  7\n",
            "Đã train xong Fold  8\n",
            "Đã train xong Fold  9\n",
            "Đã train xong Fold  10\n"
          ]
        }
      ],
      "source": [
        "k = 10\n",
        "accuracy_list = []\n",
        "fold_idx = 1\n",
        "n = (int) (len(img_arr_train)/k)\n",
        "for i in range(0, len(img_arr_train), n):\n",
        "  model = Model(k=0.1)\n",
        "  X_val_k = img_arr_train[i:i+n]\n",
        "  y_val_k = lb_arr_train[i:i+n]\n",
        "  X_train_k = img_arr_train[:i] + img_arr_train[i+n:]\n",
        "  y_train_k = lb_arr_train[:i] + lb_arr_train[i+n:]\n",
        "  model.fit(X_train_k, y_train_k, img_arr_test,lb_arr_test )\n",
        "  predicted_label = model.predict(X_val_k)\n",
        "  accuracy_list.append(Acc(predicted_label, y_val_k))\n",
        "  print(\"Đã train xong Fold \", fold_idx)\n",
        "  # Sang Fold tiếp theo\n",
        "  fold_idx = fold_idx + 1"
      ]
    },
    {
      "cell_type": "markdown",
      "metadata": {
        "id": "vgXH5WgwbIGd"
      },
      "source": [
        "Trong bài tập này, em chia thành 10 Folds, ý tưởng là mỗi fold sẽ lấy ra các phần tử theo index set để đưa vào train và val cho phù hợp. Kết quả accuracy sẽ được lưu lại vào một list để hiển thị và tính trung bình cộng."
      ]
    },
    {
      "cell_type": "code",
      "execution_count": 32,
      "metadata": {
        "colab": {
          "base_uri": "https://localhost:8080/"
        },
        "id": "QKCaAmEDeaCh",
        "outputId": "d0d61fe2-e346-43ad-8e8d-b07f6e3ef917"
      },
      "outputs": [
        {
          "name": "stdout",
          "output_type": "stream",
          "text": [
            "* Chi tiết các fold\n",
            "> Fold 1 - Accuracy: 0.852%\n",
            "> Fold 2 - Accuracy: 0.79%\n",
            "> Fold 3 - Accuracy: 0.806%\n",
            "> Fold 4 - Accuracy: 0.868%\n",
            "> Fold 5 - Accuracy: 0.83%\n",
            "> Fold 6 - Accuracy: 0.848%\n",
            "> Fold 7 - Accuracy: 0.818%\n",
            "> Fold 8 - Accuracy: 0.844%\n",
            "> Fold 9 - Accuracy: 0.83%\n",
            "> Fold 10 - Accuracy: 0.834%\n",
            "* Đánh giá tổng thể các folds:\n",
            "> Accuracy: 0.8320000000000001 (Độ lệch +- 0.021780725424099156)\n"
          ]
        }
      ],
      "source": [
        "# In kết quả tổng thể\n",
        "import numpy as np\n",
        "print('* Chi tiết các fold')\n",
        "for i in range(0, len(accuracy_list)):\n",
        "  print(f'> Fold {i+1} - Accuracy: {accuracy_list[i]}%')\n",
        "\n",
        "print('* Đánh giá tổng thể các folds:')\n",
        "print(f'> Accuracy: {np.mean(accuracy_list)} (Độ lệch +- {np.std(accuracy_list)})')"
      ]
    },
    {
      "cell_type": "markdown",
      "metadata": {
        "id": "y7TSeq3JCdat"
      },
      "source": [
        "# Confusionmatrix"
      ]
    },
    {
      "cell_type": "code",
      "execution_count": 33,
      "metadata": {
        "id": "7toMCMvZUC0f"
      },
      "outputs": [],
      "source": [
        "def confusionmatrix(actual, predicted, normalize = False):\n",
        "    unique = sorted(set(actual))\n",
        "    matrix = [[0 for _ in unique] for _ in unique]\n",
        "    imap   = {key: i for i, key in enumerate(unique)}\n",
        "    # Generate Confusion Matrix\n",
        "    for p, a in zip(predicted, actual):\n",
        "        matrix[imap[p]][imap[a]] += 1\n",
        "    # Matrix Normalization\n",
        "    if normalize:\n",
        "        sigma = sum([sum(matrix[imap[i]]) for i in unique])\n",
        "        matrix = [row for row in map(lambda i: list(map(lambda j: j / sigma, i)), matrix)]\n",
        "    return matrix"
      ]
    },
    {
      "cell_type": "code",
      "execution_count": 32,
      "metadata": {
        "id": "8cgqd6j7UCZH"
      },
      "outputs": [],
      "source": [
        "cf_matrix = confusionmatrix(lb_arr_test, predicted_label)"
      ]
    },
    {
      "cell_type": "code",
      "execution_count": 34,
      "metadata": {
        "colab": {
          "base_uri": "https://localhost:8080/",
          "height": 632
        },
        "id": "U_FW5HkkVKbs",
        "outputId": "6a3fa8fd-b920-4f8d-8e27-53336f44d738"
      },
      "outputs": [
        {
          "data": {
            "image/png": "[encoded data removed]",
            "text/plain": [
              "<Figure size 936x720 with 2 Axes>"
            ]
          },
          "metadata": {
            "needs_background": "light"
          },
          "output_type": "display_data"
        }
      ],
      "source": [
        "import seaborn as sns\n",
        "import matplotlib.pyplot as plt\n",
        "fig, ax = plt.subplots(figsize=(13,10))\n",
        "sns.heatmap(data=cf_matrix, annot=True, annot_kws={\"fontsize\":13}, fmt=\".2f\", \n",
        "            linecolor='white', linewidths=0.5);\n",
        "\n",
        "title = 'CONFUSION MATRIX\\n'\n",
        "ax.set_title(title, loc='left', fontsize=18);"
      ]
    },
    {
      "cell_type": "markdown",
      "metadata": {
        "id": "T2PFme6ra74n"
      },
      "source": [
        "Khi sử dụng 2 tập dữ liệu training và testing để đánh thuật toán ta được độ chính xác tổng thể là 78%. Nhìn vào confusion matrix ta có thấy một vài vị trí nhầm lẫn trong việc dự đoán nhãn. Ví dụ: (5, 3) ,(8,3) hay (4, 9)… là những vị trí có kết quả khá cao hay là bị nhầm lẫn cao."
      ]
    },
    {
      "cell_type": "markdown",
      "metadata": {
        "id": "K5SqqRVebXy8"
      },
      "source": [
        "# Accuracy of each digit"
      ]
    },
    {
      "cell_type": "code",
      "execution_count": 35,
      "metadata": {
        "id": "PcBlHMT5d5HF"
      },
      "outputs": [],
      "source": [
        "def AccOfClass(predict, val):\n",
        "  return (len([i for i, j in zip(val, predict) if i == j]) / len(val))*100"
      ]
    },
    {
      "cell_type": "code",
      "execution_count": 36,
      "metadata": {
        "id": "gBT7C1BnXuCc"
      },
      "outputs": [],
      "source": [
        "acc_of = {}\n",
        "predicted_label_of = {} \n",
        "for c in range(10):\n",
        "  img_array = []\n",
        "  lb_array = []\n",
        "  for i in range(0,len(lb_arr_test)):\n",
        "    if lb_arr_test[i]==c:\n",
        "      img_array.append(img_arr_test[i])\n",
        "      lb_array.append(lb_arr_test[i])\n",
        "  predicted_label_of[c] = model.predict(img_array)\n",
        "  acc_of[c] = AccOfClass(predicted_label_of[c], lb_array)"
      ]
    },
    {
      "cell_type": "code",
      "execution_count": 37,
      "metadata": {
        "id": "AaODr_hddvQS"
      },
      "outputs": [
        {
          "name": "stdout",
          "output_type": "stream",
          "text": [
            "Digit: 0 Accuracy:  84.44444444444444 %\n",
            "Digit: 1 Accuracy:  96.29629629629629 %\n",
            "Digit: 2 Accuracy:  72.81553398058253 %\n",
            "Digit: 3 Accuracy:  80.0 %\n",
            "Digit: 4 Accuracy:  75.70093457943925 %\n",
            "Digit: 5 Accuracy:  61.95652173913043 %\n",
            "Digit: 6 Accuracy:  72.52747252747253 %\n",
            "Digit: 7 Accuracy:  71.69811320754717 %\n",
            "Digit: 8 Accuracy:  59.22330097087378 %\n",
            "Digit: 9 Accuracy:  79.0 %\n"
          ]
        }
      ],
      "source": [
        "for c, pe in acc_of.items():\n",
        "  print('Digit:',c , 'Accuracy: ', pe,'%')"
      ]
    },
    {
      "cell_type": "code",
      "execution_count": 38,
      "metadata": {
        "id": "A1KzbhtqgZsj"
      },
      "outputs": [
        {
          "data": {
            "image/png": "[encoded data removed]",
            "text/plain": [
              "<Figure size 432x288 with 1 Axes>"
            ]
          },
          "metadata": {
            "needs_background": "light"
          },
          "output_type": "display_data"
        }
      ],
      "source": [
        "plt.bar(*zip(*acc_of.items()))\n",
        "plt.show()"
      ]
    },
    {
      "cell_type": "markdown",
      "metadata": {},
      "source": [
        "# Thank for watching"
      ]
    },
    {
      "cell_type": "code",
      "execution_count": null,
      "metadata": {},
      "outputs": [],
      "source": []
    }
  ],
  "metadata": {
    "colab": {
      "collapsed_sections": [],
      "name": "NaiveBayes_finnal.ipynb",
      "provenance": []
    },
    "interpreter": {
      "hash": "95ab7303ed2746327945aa376054eddca8c4eca362915ff95db932dbe7e7ee41"
    },
    "kernelspec": {
      "display_name": "Python 3.9.6 64-bit",
      "name": "python3"
    },
    "language_info": {
      "codemirror_mode": {
        "name": "ipython",
        "version": 3
      },
      "file_extension": ".py",
      "mimetype": "text/x-python",
      "name": "python",
      "nbconvert_exporter": "python",
      "pygments_lexer": "ipython3",
      "version": "3.9.6"
    }
  },
  "nbformat": 4,
  "nbformat_minor": 0
}
